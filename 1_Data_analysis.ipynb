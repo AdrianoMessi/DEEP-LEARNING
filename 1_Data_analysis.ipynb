{
 "cells": [
  {
   "cell_type": "markdown",
   "metadata": {
    "id": "VBl0K3ILnPFu"
   },
   "source": [
    "## Data Analysis and preprocessing"
   ]
  },
  {
   "cell_type": "code",
   "execution_count": 1,
   "metadata": {
    "executionInfo": {
     "elapsed": 1986,
     "status": "ok",
     "timestamp": 1687882114479,
     "user": {
      "displayName": "Karla Paola Acosta Zamora",
      "userId": "09303972616486040249"
     },
     "user_tz": 360
    },
    "id": "hBxTwqnQnPFx"
   },
   "outputs": [],
   "source": [
    "# Charging the necessary dependencies\n",
    "import numpy as np                              # Library for using arrays and numeric calculus\n",
    "import matplotlib.pyplot as plt                 # Library for plotting\n",
    "import pandas as pd                             # Library for loading and handling datasets\n",
    "import seaborn as sns                           # Library for providing style to the charts\n",
    "from sklearn import preprocessing               # Library for preprocessing data\n",
    "#import pingouin as pg\n",
    "from sklearn.model_selection import train_test_split    #Library for splitting the data into training and testing datasets\n",
    "%matplotlib inline"
   ]
  },
  {
   "cell_type": "markdown",
   "metadata": {
    "id": "HLbNiXrEnPF0"
   },
   "source": [
    "> Loading the dataset"
   ]
  },
  {
   "cell_type": "code",
   "execution_count": 2,
   "metadata": {
    "executionInfo": {
     "elapsed": 490,
     "status": "ok",
     "timestamp": 1687882114958,
     "user": {
      "displayName": "Karla Paola Acosta Zamora",
      "userId": "09303972616486040249"
     },
     "user_tz": 360
    },
    "id": "Zgfa1vUBnPF2"
   },
   "outputs": [],
   "source": [
    "url =\"https://query1.finance.yahoo.com/v7/finance/download/AAPL?period1=1420088400&period2=1642414800&interval=1d&events=history&includeAdjustedClose=true\"\n",
    "df=pd.read_csv(url)                     # Open the file in a new variable\n",
    "df.to_csv(\"Dataset.csv\", index=False)   # Saving the dataset in a new file"
   ]
  },
  {
   "cell_type": "code",
   "execution_count": 3,
   "metadata": {
    "colab": {
     "base_uri": "https://localhost:8080/",
     "height": 206
    },
    "executionInfo": {
     "elapsed": 504,
     "status": "ok",
     "timestamp": 1687882123774,
     "user": {
      "displayName": "Karla Paola Acosta Zamora",
      "userId": "09303972616486040249"
     },
     "user_tz": 360
    },
    "id": "KQLvl3GZnPF4",
    "outputId": "1de52e60-ee39-42eb-8743-ae7901e3b576"
   },
   "outputs": [
    {
     "data": {
      "text/html": [
       "<div>\n",
       "<style scoped>\n",
       "    .dataframe tbody tr th:only-of-type {\n",
       "        vertical-align: middle;\n",
       "    }\n",
       "\n",
       "    .dataframe tbody tr th {\n",
       "        vertical-align: top;\n",
       "    }\n",
       "\n",
       "    .dataframe thead th {\n",
       "        text-align: right;\n",
       "    }\n",
       "</style>\n",
       "<table border=\"1\" class=\"dataframe\">\n",
       "  <thead>\n",
       "    <tr style=\"text-align: right;\">\n",
       "      <th></th>\n",
       "      <th>Date</th>\n",
       "      <th>Open</th>\n",
       "      <th>High</th>\n",
       "      <th>Low</th>\n",
       "      <th>Close</th>\n",
       "      <th>Adj Close</th>\n",
       "      <th>Volume</th>\n",
       "    </tr>\n",
       "  </thead>\n",
       "  <tbody>\n",
       "    <tr>\n",
       "      <th>0</th>\n",
       "      <td>2015-01-02</td>\n",
       "      <td>27.847500</td>\n",
       "      <td>27.860001</td>\n",
       "      <td>26.837500</td>\n",
       "      <td>27.332500</td>\n",
       "      <td>24.531767</td>\n",
       "      <td>212818400</td>\n",
       "    </tr>\n",
       "    <tr>\n",
       "      <th>1</th>\n",
       "      <td>2015-01-05</td>\n",
       "      <td>27.072500</td>\n",
       "      <td>27.162500</td>\n",
       "      <td>26.352501</td>\n",
       "      <td>26.562500</td>\n",
       "      <td>23.840666</td>\n",
       "      <td>257142000</td>\n",
       "    </tr>\n",
       "    <tr>\n",
       "      <th>2</th>\n",
       "      <td>2015-01-06</td>\n",
       "      <td>26.635000</td>\n",
       "      <td>26.857500</td>\n",
       "      <td>26.157499</td>\n",
       "      <td>26.565001</td>\n",
       "      <td>23.842911</td>\n",
       "      <td>263188400</td>\n",
       "    </tr>\n",
       "    <tr>\n",
       "      <th>3</th>\n",
       "      <td>2015-01-07</td>\n",
       "      <td>26.799999</td>\n",
       "      <td>27.049999</td>\n",
       "      <td>26.674999</td>\n",
       "      <td>26.937500</td>\n",
       "      <td>24.177235</td>\n",
       "      <td>160423600</td>\n",
       "    </tr>\n",
       "    <tr>\n",
       "      <th>4</th>\n",
       "      <td>2015-01-08</td>\n",
       "      <td>27.307501</td>\n",
       "      <td>28.037500</td>\n",
       "      <td>27.174999</td>\n",
       "      <td>27.972500</td>\n",
       "      <td>25.106188</td>\n",
       "      <td>237458000</td>\n",
       "    </tr>\n",
       "  </tbody>\n",
       "</table>\n",
       "</div>"
      ],
      "text/plain": [
       "         Date       Open       High        Low      Close  Adj Close   \n",
       "0  2015-01-02  27.847500  27.860001  26.837500  27.332500  24.531767  \\\n",
       "1  2015-01-05  27.072500  27.162500  26.352501  26.562500  23.840666   \n",
       "2  2015-01-06  26.635000  26.857500  26.157499  26.565001  23.842911   \n",
       "3  2015-01-07  26.799999  27.049999  26.674999  26.937500  24.177235   \n",
       "4  2015-01-08  27.307501  28.037500  27.174999  27.972500  25.106188   \n",
       "\n",
       "      Volume  \n",
       "0  212818400  \n",
       "1  257142000  \n",
       "2  263188400  \n",
       "3  160423600  \n",
       "4  237458000  "
      ]
     },
     "execution_count": 3,
     "metadata": {},
     "output_type": "execute_result"
    }
   ],
   "source": [
    "df = pd.read_csv(\"Dataset.csv\")\n",
    "df.head()                               # Show a dataset summary"
   ]
  },
  {
   "cell_type": "code",
   "execution_count": 5,
   "metadata": {
    "executionInfo": {
     "elapsed": 172,
     "status": "ok",
     "timestamp": 1687882126450,
     "user": {
      "displayName": "Karla Paola Acosta Zamora",
      "userId": "09303972616486040249"
     },
     "user_tz": 360
    },
    "id": "PhKygrZmnPF5"
   },
   "outputs": [],
   "source": [
    "df_0 = df.copy()                         # Generating a new variable to not modify the original file"
   ]
  },
  {
   "cell_type": "code",
   "execution_count": 6,
   "metadata": {
    "colab": {
     "base_uri": "https://localhost:8080/",
     "height": 300
    },
    "executionInfo": {
     "elapsed": 579,
     "status": "ok",
     "timestamp": 1687882129025,
     "user": {
      "displayName": "Karla Paola Acosta Zamora",
      "userId": "09303972616486040249"
     },
     "user_tz": 360
    },
    "id": "aU4i_c4qnPF5",
    "outputId": "91d6df2e-1ab0-486c-e630-a0025cb295e7"
   },
   "outputs": [
    {
     "data": {
      "text/html": [
       "<div>\n",
       "<style scoped>\n",
       "    .dataframe tbody tr th:only-of-type {\n",
       "        vertical-align: middle;\n",
       "    }\n",
       "\n",
       "    .dataframe tbody tr th {\n",
       "        vertical-align: top;\n",
       "    }\n",
       "\n",
       "    .dataframe thead th {\n",
       "        text-align: right;\n",
       "    }\n",
       "</style>\n",
       "<table border=\"1\" class=\"dataframe\">\n",
       "  <thead>\n",
       "    <tr style=\"text-align: right;\">\n",
       "      <th></th>\n",
       "      <th>Open</th>\n",
       "      <th>High</th>\n",
       "      <th>Low</th>\n",
       "      <th>Close</th>\n",
       "      <th>Adj Close</th>\n",
       "      <th>Volume</th>\n",
       "    </tr>\n",
       "  </thead>\n",
       "  <tbody>\n",
       "    <tr>\n",
       "      <th>count</th>\n",
       "      <td>1773.000000</td>\n",
       "      <td>1773.000000</td>\n",
       "      <td>1773.000000</td>\n",
       "      <td>1773.000000</td>\n",
       "      <td>1773.000000</td>\n",
       "      <td>1.773000e+03</td>\n",
       "    </tr>\n",
       "    <tr>\n",
       "      <th>mean</th>\n",
       "      <td>61.989952</td>\n",
       "      <td>62.652619</td>\n",
       "      <td>61.353823</td>\n",
       "      <td>62.032640</td>\n",
       "      <td>60.048363</td>\n",
       "      <td>1.377490e+08</td>\n",
       "    </tr>\n",
       "    <tr>\n",
       "      <th>std</th>\n",
       "      <td>41.084410</td>\n",
       "      <td>41.584347</td>\n",
       "      <td>40.602374</td>\n",
       "      <td>41.116116</td>\n",
       "      <td>41.348525</td>\n",
       "      <td>6.968048e+07</td>\n",
       "    </tr>\n",
       "    <tr>\n",
       "      <th>min</th>\n",
       "      <td>22.500000</td>\n",
       "      <td>22.917500</td>\n",
       "      <td>22.367500</td>\n",
       "      <td>22.584999</td>\n",
       "      <td>20.854187</td>\n",
       "      <td>4.100000e+07</td>\n",
       "    </tr>\n",
       "    <tr>\n",
       "      <th>25%</th>\n",
       "      <td>31.525000</td>\n",
       "      <td>31.782499</td>\n",
       "      <td>31.264999</td>\n",
       "      <td>31.502501</td>\n",
       "      <td>28.467155</td>\n",
       "      <td>9.031800e+07</td>\n",
       "    </tr>\n",
       "    <tr>\n",
       "      <th>50%</th>\n",
       "      <td>43.985001</td>\n",
       "      <td>44.437500</td>\n",
       "      <td>43.715000</td>\n",
       "      <td>44.142502</td>\n",
       "      <td>42.111904</td>\n",
       "      <td>1.186496e+08</td>\n",
       "    </tr>\n",
       "    <tr>\n",
       "      <th>75%</th>\n",
       "      <td>78.397499</td>\n",
       "      <td>79.392502</td>\n",
       "      <td>77.727501</td>\n",
       "      <td>78.285004</td>\n",
       "      <td>76.860344</td>\n",
       "      <td>1.645604e+08</td>\n",
       "    </tr>\n",
       "    <tr>\n",
       "      <th>max</th>\n",
       "      <td>182.630005</td>\n",
       "      <td>182.940002</td>\n",
       "      <td>179.119995</td>\n",
       "      <td>182.009995</td>\n",
       "      <td>180.434296</td>\n",
       "      <td>6.488252e+08</td>\n",
       "    </tr>\n",
       "  </tbody>\n",
       "</table>\n",
       "</div>"
      ],
      "text/plain": [
       "              Open         High          Low        Close    Adj Close   \n",
       "count  1773.000000  1773.000000  1773.000000  1773.000000  1773.000000  \\\n",
       "mean     61.989952    62.652619    61.353823    62.032640    60.048363   \n",
       "std      41.084410    41.584347    40.602374    41.116116    41.348525   \n",
       "min      22.500000    22.917500    22.367500    22.584999    20.854187   \n",
       "25%      31.525000    31.782499    31.264999    31.502501    28.467155   \n",
       "50%      43.985001    44.437500    43.715000    44.142502    42.111904   \n",
       "75%      78.397499    79.392502    77.727501    78.285004    76.860344   \n",
       "max     182.630005   182.940002   179.119995   182.009995   180.434296   \n",
       "\n",
       "             Volume  \n",
       "count  1.773000e+03  \n",
       "mean   1.377490e+08  \n",
       "std    6.968048e+07  \n",
       "min    4.100000e+07  \n",
       "25%    9.031800e+07  \n",
       "50%    1.186496e+08  \n",
       "75%    1.645604e+08  \n",
       "max    6.488252e+08  "
      ]
     },
     "execution_count": 6,
     "metadata": {},
     "output_type": "execute_result"
    }
   ],
   "source": [
    "df_0.describe()                          # Getting some descriptive statistics about dataset"
   ]
  },
  {
   "cell_type": "code",
   "execution_count": 7,
   "metadata": {
    "colab": {
     "base_uri": "https://localhost:8080/"
    },
    "executionInfo": {
     "elapsed": 180,
     "status": "ok",
     "timestamp": 1687882134175,
     "user": {
      "displayName": "Karla Paola Acosta Zamora",
      "userId": "09303972616486040249"
     },
     "user_tz": 360
    },
    "id": "PWSo65LdnPF8",
    "outputId": "33e2b723-0dcd-477c-8d7a-7ca8fa827aa2"
   },
   "outputs": [
    {
     "data": {
      "text/plain": [
       "Date          object\n",
       "Open         float64\n",
       "High         float64\n",
       "Low          float64\n",
       "Close        float64\n",
       "Adj Close    float64\n",
       "Volume         int64\n",
       "dtype: object"
      ]
     },
     "execution_count": 7,
     "metadata": {},
     "output_type": "execute_result"
    }
   ],
   "source": [
    "df_0.dtypes                               # Checking the type of variables"
   ]
  },
  {
   "cell_type": "code",
   "execution_count": 8,
   "metadata": {
    "executionInfo": {
     "elapsed": 162,
     "status": "ok",
     "timestamp": 1687882139833,
     "user": {
      "displayName": "Karla Paola Acosta Zamora",
      "userId": "09303972616486040249"
     },
     "user_tz": 360
    },
    "id": "XZLvwhMGnPF9"
   },
   "outputs": [],
   "source": [
    "# Changing the type of values in order to minimize the size of the file, lower the values, faster the compile process.\n",
    "df_0=df_0.astype({'Open':'float32', 'High':'float32', 'Low':'float32', 'Close':'float32' })"
   ]
  },
  {
   "cell_type": "code",
   "execution_count": 9,
   "metadata": {
    "colab": {
     "base_uri": "https://localhost:8080/"
    },
    "executionInfo": {
     "elapsed": 153,
     "status": "ok",
     "timestamp": 1687882144447,
     "user": {
      "displayName": "Karla Paola Acosta Zamora",
      "userId": "09303972616486040249"
     },
     "user_tz": 360
    },
    "id": "yj349g5GnPF-",
    "outputId": "189faf6f-f703-43eb-bf67-4488ef4c5eda"
   },
   "outputs": [
    {
     "data": {
      "text/plain": [
       "Date          object\n",
       "Open         float32\n",
       "High         float32\n",
       "Low          float32\n",
       "Close        float32\n",
       "Adj Close    float64\n",
       "Volume         int64\n",
       "dtype: object"
      ]
     },
     "execution_count": 9,
     "metadata": {},
     "output_type": "execute_result"
    }
   ],
   "source": [
    "df_0.dtypes                                 # Verifying the new type of data"
   ]
  },
  {
   "cell_type": "code",
   "execution_count": 10,
   "metadata": {
    "colab": {
     "base_uri": "https://localhost:8080/"
    },
    "executionInfo": {
     "elapsed": 154,
     "status": "ok",
     "timestamp": 1687882147182,
     "user": {
      "displayName": "Karla Paola Acosta Zamora",
      "userId": "09303972616486040249"
     },
     "user_tz": 360
    },
    "id": "1gAEU6uMnPGA",
    "outputId": "924710da-fddf-426b-b3df-9bd2f8dec7aa"
   },
   "outputs": [
    {
     "data": {
      "text/plain": [
       "Date         1773\n",
       "Open         1773\n",
       "High         1773\n",
       "Low          1773\n",
       "Close        1773\n",
       "Adj Close    1773\n",
       "Volume       1773\n",
       "dtype: int64"
      ]
     },
     "execution_count": 10,
     "metadata": {},
     "output_type": "execute_result"
    }
   ],
   "source": [
    "df_0.count()"
   ]
  },
  {
   "cell_type": "code",
   "execution_count": 11,
   "metadata": {
    "colab": {
     "base_uri": "https://localhost:8080/",
     "height": 206
    },
    "executionInfo": {
     "elapsed": 246,
     "status": "ok",
     "timestamp": 1687882153413,
     "user": {
      "displayName": "Karla Paola Acosta Zamora",
      "userId": "09303972616486040249"
     },
     "user_tz": 360
    },
    "id": "G6rEuY95nPGB",
    "outputId": "fea7e377-21a8-45b6-da18-1e6991ea669e"
   },
   "outputs": [
    {
     "data": {
      "text/html": [
       "<div>\n",
       "<style scoped>\n",
       "    .dataframe tbody tr th:only-of-type {\n",
       "        vertical-align: middle;\n",
       "    }\n",
       "\n",
       "    .dataframe tbody tr th {\n",
       "        vertical-align: top;\n",
       "    }\n",
       "\n",
       "    .dataframe thead th {\n",
       "        text-align: right;\n",
       "    }\n",
       "</style>\n",
       "<table border=\"1\" class=\"dataframe\">\n",
       "  <thead>\n",
       "    <tr style=\"text-align: right;\">\n",
       "      <th></th>\n",
       "      <th>Date</th>\n",
       "      <th>Open</th>\n",
       "      <th>High</th>\n",
       "      <th>Low</th>\n",
       "      <th>Close</th>\n",
       "      <th>Adj Close</th>\n",
       "      <th>Volume</th>\n",
       "    </tr>\n",
       "  </thead>\n",
       "  <tbody>\n",
       "    <tr>\n",
       "      <th>0</th>\n",
       "      <td>2015-01-02</td>\n",
       "      <td>27.847500</td>\n",
       "      <td>27.860001</td>\n",
       "      <td>26.837500</td>\n",
       "      <td>27.332500</td>\n",
       "      <td>24.531767</td>\n",
       "      <td>212818400</td>\n",
       "    </tr>\n",
       "    <tr>\n",
       "      <th>1</th>\n",
       "      <td>2015-01-05</td>\n",
       "      <td>27.072500</td>\n",
       "      <td>27.162500</td>\n",
       "      <td>26.352501</td>\n",
       "      <td>26.562500</td>\n",
       "      <td>23.840666</td>\n",
       "      <td>257142000</td>\n",
       "    </tr>\n",
       "    <tr>\n",
       "      <th>2</th>\n",
       "      <td>2015-01-06</td>\n",
       "      <td>26.635000</td>\n",
       "      <td>26.857500</td>\n",
       "      <td>26.157499</td>\n",
       "      <td>26.565001</td>\n",
       "      <td>23.842911</td>\n",
       "      <td>263188400</td>\n",
       "    </tr>\n",
       "    <tr>\n",
       "      <th>3</th>\n",
       "      <td>2015-01-07</td>\n",
       "      <td>26.799999</td>\n",
       "      <td>27.049999</td>\n",
       "      <td>26.674999</td>\n",
       "      <td>26.937500</td>\n",
       "      <td>24.177235</td>\n",
       "      <td>160423600</td>\n",
       "    </tr>\n",
       "    <tr>\n",
       "      <th>4</th>\n",
       "      <td>2015-01-08</td>\n",
       "      <td>27.307501</td>\n",
       "      <td>28.037500</td>\n",
       "      <td>27.174999</td>\n",
       "      <td>27.972500</td>\n",
       "      <td>25.106188</td>\n",
       "      <td>237458000</td>\n",
       "    </tr>\n",
       "  </tbody>\n",
       "</table>\n",
       "</div>"
      ],
      "text/plain": [
       "         Date       Open       High        Low      Close  Adj Close   \n",
       "0  2015-01-02  27.847500  27.860001  26.837500  27.332500  24.531767  \\\n",
       "1  2015-01-05  27.072500  27.162500  26.352501  26.562500  23.840666   \n",
       "2  2015-01-06  26.635000  26.857500  26.157499  26.565001  23.842911   \n",
       "3  2015-01-07  26.799999  27.049999  26.674999  26.937500  24.177235   \n",
       "4  2015-01-08  27.307501  28.037500  27.174999  27.972500  25.106188   \n",
       "\n",
       "      Volume  \n",
       "0  212818400  \n",
       "1  257142000  \n",
       "2  263188400  \n",
       "3  160423600  \n",
       "4  237458000  "
      ]
     },
     "execution_count": 11,
     "metadata": {},
     "output_type": "execute_result"
    }
   ],
   "source": [
    "df_0 = df_0.dropna()\n",
    "df_0 = df_0.reset_index(drop=True)  # Reiniciar los índices\n",
    "df_0.head(5)"
   ]
  },
  {
   "cell_type": "markdown",
   "metadata": {
    "id": "1NiEaEx1nPGB"
   },
   "source": [
    "## Histograms of the features"
   ]
  },
  {
   "cell_type": "code",
   "execution_count": 13,
   "metadata": {
    "colab": {
     "base_uri": "https://localhost:8080/",
     "height": 498
    },
    "executionInfo": {
     "elapsed": 544,
     "status": "ok",
     "timestamp": 1687882161064,
     "user": {
      "displayName": "Karla Paola Acosta Zamora",
      "userId": "09303972616486040249"
     },
     "user_tz": 360
    },
    "id": "P9HRkZ4onPGC",
    "outputId": "514c2e6e-2de0-43fb-8c5a-64865bef97ef"
   },
   "outputs": [
    {
     "data": {
      "image/png": "[encoded data removed]",
      "text/plain": [
       "<Figure size 432x288 with 1 Axes>"
      ]
     },
     "metadata": {},
     "output_type": "display_data"
    }
   ],
   "source": [
    "sns.set(style='ticks')                                          # Giving some style to the charts\n",
    "df_0.hist(column='Open', bins=20, color='blue')     # We get the histogram of the Cs feature with 20 bins in color blue\n",
    "plt.ylabel('Frequency')                                         # Defining the name of the y-axis\n",
    "plt.xlabel('Open Value')                                        # Defining the name of the x-axis\n",
    "plt.savefig('Open.jpg')                                       # Saving the figure"
   ]
  },
  {
   "cell_type": "code",
   "execution_count": 13,
   "metadata": {
    "colab": {
     "base_uri": "https://localhost:8080/",
     "height": 498
    },
    "executionInfo": {
     "elapsed": 785,
     "status": "ok",
     "timestamp": 1687882165593,
     "user": {
      "displayName": "Karla Paola Acosta Zamora",
      "userId": "09303972616486040249"
     },
     "user_tz": 360
    },
    "id": "N5XfHP6anPGD",
    "outputId": "edec2a86-7c18-48ac-c8ac-dca57e0ebc00"
   },
   "outputs": [
    {
     "data": {
      "text/plain": [
       "Text(0.5, 0, 'Close Value')"
      ]
     },
     "execution_count": 13,
     "metadata": {},
     "output_type": "execute_result"
    },
    {
     "data": {
      "image/png": "[encoded data removed]",
      "text/plain": [
       "<Figure size 432x288 with 1 Axes>"
      ]
     },
     "metadata": {},
     "output_type": "display_data"
    }
   ],
   "source": [
    "sns.set(style='ticks')                                          # Giving some style to the charts\n",
    "df_0.hist(column='Close', bins=20, color='red')                 # We get the histogram of the Cs feature with 20 bins in color blue\n",
    "plt.ylabel('Frequency')                                         # Defining the name of the y-axis\n",
    "plt.xlabel('Close Value')                                        # Defining the name of the x-axis\n",
    "#plt.savefig('Open.pdf')                                        # Saving the figure"
   ]
  },
  {
   "cell_type": "code",
   "execution_count": 14,
   "metadata": {
    "colab": {
     "base_uri": "https://localhost:8080/",
     "height": 414
    },
    "executionInfo": {
     "elapsed": 467,
     "status": "ok",
     "timestamp": 1687882178730,
     "user": {
      "displayName": "Karla Paola Acosta Zamora",
      "userId": "09303972616486040249"
     },
     "user_tz": 360
    },
    "id": "mMaU_3aYnPGD",
    "outputId": "4cd24a2a-9dd7-47e3-ec20-f71b0178ec72"
   },
   "outputs": [
    {
     "data": {
      "image/png": "[encoded data removed]",
      "text/plain": [
       "<Figure size 432x288 with 1 Axes>"
      ]
     },
     "metadata": {},
     "output_type": "display_data"
    }
   ],
   "source": [
    "sns.boxplot(data=df_0, y='Close');\n",
    "#sns.swarmplot(data = df_0, y='Close', alpha=0.5)"
   ]
  },
  {
   "cell_type": "code",
   "execution_count": 15,
   "metadata": {
    "colab": {
     "base_uri": "https://localhost:8080/",
     "height": 424
    },
    "executionInfo": {
     "elapsed": 14,
     "status": "ok",
     "timestamp": 1687882181285,
     "user": {
      "displayName": "Karla Paola Acosta Zamora",
      "userId": "09303972616486040249"
     },
     "user_tz": 360
    },
    "id": "HqKxEQ8_nPGE",
    "outputId": "a4ac0a64-65d0-4f4a-bcb1-b861582ee75d"
   },
   "outputs": [
    {
     "data": {
      "text/html": [
       "<div>\n",
       "<style scoped>\n",
       "    .dataframe tbody tr th:only-of-type {\n",
       "        vertical-align: middle;\n",
       "    }\n",
       "\n",
       "    .dataframe tbody tr th {\n",
       "        vertical-align: top;\n",
       "    }\n",
       "\n",
       "    .dataframe thead th {\n",
       "        text-align: right;\n",
       "    }\n",
       "</style>\n",
       "<table border=\"1\" class=\"dataframe\">\n",
       "  <thead>\n",
       "    <tr style=\"text-align: right;\">\n",
       "      <th></th>\n",
       "      <th>Date</th>\n",
       "      <th>Open</th>\n",
       "      <th>High</th>\n",
       "      <th>Low</th>\n",
       "      <th>Close</th>\n",
       "      <th>Adj Close</th>\n",
       "      <th>Volume</th>\n",
       "    </tr>\n",
       "  </thead>\n",
       "  <tbody>\n",
       "    <tr>\n",
       "      <th>0</th>\n",
       "      <td>2015-01-02</td>\n",
       "      <td>27.847500</td>\n",
       "      <td>27.860001</td>\n",
       "      <td>26.837500</td>\n",
       "      <td>27.332500</td>\n",
       "      <td>24.531763</td>\n",
       "      <td>212818400</td>\n",
       "    </tr>\n",
       "    <tr>\n",
       "      <th>1</th>\n",
       "      <td>2015-01-05</td>\n",
       "      <td>27.072500</td>\n",
       "      <td>27.162500</td>\n",
       "      <td>26.352501</td>\n",
       "      <td>26.562500</td>\n",
       "      <td>23.840664</td>\n",
       "      <td>257142000</td>\n",
       "    </tr>\n",
       "    <tr>\n",
       "      <th>2</th>\n",
       "      <td>2015-01-06</td>\n",
       "      <td>26.635000</td>\n",
       "      <td>26.857500</td>\n",
       "      <td>26.157499</td>\n",
       "      <td>26.565001</td>\n",
       "      <td>23.842909</td>\n",
       "      <td>263188400</td>\n",
       "    </tr>\n",
       "    <tr>\n",
       "      <th>3</th>\n",
       "      <td>2015-01-07</td>\n",
       "      <td>26.799999</td>\n",
       "      <td>27.049999</td>\n",
       "      <td>26.674999</td>\n",
       "      <td>26.937500</td>\n",
       "      <td>24.177240</td>\n",
       "      <td>160423600</td>\n",
       "    </tr>\n",
       "    <tr>\n",
       "      <th>4</th>\n",
       "      <td>2015-01-08</td>\n",
       "      <td>27.307501</td>\n",
       "      <td>28.037500</td>\n",
       "      <td>27.174999</td>\n",
       "      <td>27.972500</td>\n",
       "      <td>25.106184</td>\n",
       "      <td>237458000</td>\n",
       "    </tr>\n",
       "    <tr>\n",
       "      <th>...</th>\n",
       "      <td>...</td>\n",
       "      <td>...</td>\n",
       "      <td>...</td>\n",
       "      <td>...</td>\n",
       "      <td>...</td>\n",
       "      <td>...</td>\n",
       "      <td>...</td>\n",
       "    </tr>\n",
       "    <tr>\n",
       "      <th>1768</th>\n",
       "      <td>2022-01-10</td>\n",
       "      <td>169.080002</td>\n",
       "      <td>172.500000</td>\n",
       "      <td>168.169998</td>\n",
       "      <td>172.190002</td>\n",
       "      <td>170.699310</td>\n",
       "      <td>106765600</td>\n",
       "    </tr>\n",
       "    <tr>\n",
       "      <th>1769</th>\n",
       "      <td>2022-01-11</td>\n",
       "      <td>172.320007</td>\n",
       "      <td>175.179993</td>\n",
       "      <td>170.820007</td>\n",
       "      <td>175.080002</td>\n",
       "      <td>173.564285</td>\n",
       "      <td>76138300</td>\n",
       "    </tr>\n",
       "    <tr>\n",
       "      <th>1770</th>\n",
       "      <td>2022-01-12</td>\n",
       "      <td>176.119995</td>\n",
       "      <td>177.179993</td>\n",
       "      <td>174.820007</td>\n",
       "      <td>175.529999</td>\n",
       "      <td>174.010406</td>\n",
       "      <td>74805200</td>\n",
       "    </tr>\n",
       "    <tr>\n",
       "      <th>1771</th>\n",
       "      <td>2022-01-13</td>\n",
       "      <td>175.779999</td>\n",
       "      <td>176.619995</td>\n",
       "      <td>171.789993</td>\n",
       "      <td>172.190002</td>\n",
       "      <td>170.699310</td>\n",
       "      <td>84505800</td>\n",
       "    </tr>\n",
       "    <tr>\n",
       "      <th>1772</th>\n",
       "      <td>2022-01-14</td>\n",
       "      <td>171.339996</td>\n",
       "      <td>173.779999</td>\n",
       "      <td>171.089996</td>\n",
       "      <td>173.070007</td>\n",
       "      <td>171.571716</td>\n",
       "      <td>80440800</td>\n",
       "    </tr>\n",
       "  </tbody>\n",
       "</table>\n",
       "<p>1773 rows × 7 columns</p>\n",
       "</div>"
      ],
      "text/plain": [
       "            Date        Open        High         Low       Close   Adj Close   \n",
       "0     2015-01-02   27.847500   27.860001   26.837500   27.332500   24.531763  \\\n",
       "1     2015-01-05   27.072500   27.162500   26.352501   26.562500   23.840664   \n",
       "2     2015-01-06   26.635000   26.857500   26.157499   26.565001   23.842909   \n",
       "3     2015-01-07   26.799999   27.049999   26.674999   26.937500   24.177240   \n",
       "4     2015-01-08   27.307501   28.037500   27.174999   27.972500   25.106184   \n",
       "...          ...         ...         ...         ...         ...         ...   \n",
       "1768  2022-01-10  169.080002  172.500000  168.169998  172.190002  170.699310   \n",
       "1769  2022-01-11  172.320007  175.179993  170.820007  175.080002  173.564285   \n",
       "1770  2022-01-12  176.119995  177.179993  174.820007  175.529999  174.010406   \n",
       "1771  2022-01-13  175.779999  176.619995  171.789993  172.190002  170.699310   \n",
       "1772  2022-01-14  171.339996  173.779999  171.089996  173.070007  171.571716   \n",
       "\n",
       "         Volume  \n",
       "0     212818400  \n",
       "1     257142000  \n",
       "2     263188400  \n",
       "3     160423600  \n",
       "4     237458000  \n",
       "...         ...  \n",
       "1768  106765600  \n",
       "1769   76138300  \n",
       "1770   74805200  \n",
       "1771   84505800  \n",
       "1772   80440800  \n",
       "\n",
       "[1773 rows x 7 columns]"
      ]
     },
     "execution_count": 15,
     "metadata": {},
     "output_type": "execute_result"
    }
   ],
   "source": [
    "df_0"
   ]
  },
  {
   "cell_type": "code",
   "execution_count": 16,
   "metadata": {
    "colab": {
     "base_uri": "https://localhost:8080/",
     "height": 424
    },
    "executionInfo": {
     "elapsed": 25,
     "status": "ok",
     "timestamp": 1687882183379,
     "user": {
      "displayName": "Karla Paola Acosta Zamora",
      "userId": "09303972616486040249"
     },
     "user_tz": 360
    },
    "id": "VJ47wYYxnPGE",
    "outputId": "958e837c-a72b-4516-b602-711ce4049c00"
   },
   "outputs": [
    {
     "data": {
      "text/html": [
       "<div>\n",
       "<style scoped>\n",
       "    .dataframe tbody tr th:only-of-type {\n",
       "        vertical-align: middle;\n",
       "    }\n",
       "\n",
       "    .dataframe tbody tr th {\n",
       "        vertical-align: top;\n",
       "    }\n",
       "\n",
       "    .dataframe thead th {\n",
       "        text-align: right;\n",
       "    }\n",
       "</style>\n",
       "<table border=\"1\" class=\"dataframe\">\n",
       "  <thead>\n",
       "    <tr style=\"text-align: right;\">\n",
       "      <th></th>\n",
       "      <th>Date</th>\n",
       "      <th>Adj Close</th>\n",
       "    </tr>\n",
       "  </thead>\n",
       "  <tbody>\n",
       "    <tr>\n",
       "      <th>0</th>\n",
       "      <td>2015-01-02</td>\n",
       "      <td>24.531763</td>\n",
       "    </tr>\n",
       "    <tr>\n",
       "      <th>1</th>\n",
       "      <td>2015-01-05</td>\n",
       "      <td>23.840664</td>\n",
       "    </tr>\n",
       "    <tr>\n",
       "      <th>2</th>\n",
       "      <td>2015-01-06</td>\n",
       "      <td>23.842909</td>\n",
       "    </tr>\n",
       "    <tr>\n",
       "      <th>3</th>\n",
       "      <td>2015-01-07</td>\n",
       "      <td>24.177240</td>\n",
       "    </tr>\n",
       "    <tr>\n",
       "      <th>4</th>\n",
       "      <td>2015-01-08</td>\n",
       "      <td>25.106184</td>\n",
       "    </tr>\n",
       "    <tr>\n",
       "      <th>...</th>\n",
       "      <td>...</td>\n",
       "      <td>...</td>\n",
       "    </tr>\n",
       "    <tr>\n",
       "      <th>1768</th>\n",
       "      <td>2022-01-10</td>\n",
       "      <td>170.699310</td>\n",
       "    </tr>\n",
       "    <tr>\n",
       "      <th>1769</th>\n",
       "      <td>2022-01-11</td>\n",
       "      <td>173.564285</td>\n",
       "    </tr>\n",
       "    <tr>\n",
       "      <th>1770</th>\n",
       "      <td>2022-01-12</td>\n",
       "      <td>174.010406</td>\n",
       "    </tr>\n",
       "    <tr>\n",
       "      <th>1771</th>\n",
       "      <td>2022-01-13</td>\n",
       "      <td>170.699310</td>\n",
       "    </tr>\n",
       "    <tr>\n",
       "      <th>1772</th>\n",
       "      <td>2022-01-14</td>\n",
       "      <td>171.571716</td>\n",
       "    </tr>\n",
       "  </tbody>\n",
       "</table>\n",
       "<p>1773 rows × 2 columns</p>\n",
       "</div>"
      ],
      "text/plain": [
       "            Date   Adj Close\n",
       "0     2015-01-02   24.531763\n",
       "1     2015-01-05   23.840664\n",
       "2     2015-01-06   23.842909\n",
       "3     2015-01-07   24.177240\n",
       "4     2015-01-08   25.106184\n",
       "...          ...         ...\n",
       "1768  2022-01-10  170.699310\n",
       "1769  2022-01-11  173.564285\n",
       "1770  2022-01-12  174.010406\n",
       "1771  2022-01-13  170.699310\n",
       "1772  2022-01-14  171.571716\n",
       "\n",
       "[1773 rows x 2 columns]"
      ]
     },
     "execution_count": 16,
     "metadata": {},
     "output_type": "execute_result"
    }
   ],
   "source": [
    "df_0 = df_0.drop(columns=['Open', 'High', 'Low', 'Close', 'Volume'])\n",
    "df_0"
   ]
  },
  {
   "cell_type": "code",
   "execution_count": 17,
   "metadata": {
    "executionInfo": {
     "elapsed": 384,
     "status": "ok",
     "timestamp": 1687882186024,
     "user": {
      "displayName": "Karla Paola Acosta Zamora",
      "userId": "09303972616486040249"
     },
     "user_tz": 360
    },
    "id": "yUZo6VuUnPGE"
   },
   "outputs": [],
   "source": [
    "x = df_0['Date']\n",
    "y = df_0['Adj Close']"
   ]
  },
  {
   "cell_type": "code",
   "execution_count": 18,
   "metadata": {
    "executionInfo": {
     "elapsed": 265,
     "status": "ok",
     "timestamp": 1687882191915,
     "user": {
      "displayName": "Karla Paola Acosta Zamora",
      "userId": "09303972616486040249"
     },
     "user_tz": 360
    },
    "id": "ndXvrb6KnPGF"
   },
   "outputs": [],
   "source": [
    "x = np.array(x)\n",
    "y = np.array(y)"
   ]
  },
  {
   "cell_type": "code",
   "execution_count": 19,
   "metadata": {
    "colab": {
     "base_uri": "https://localhost:8080/",
     "height": 434
    },
    "executionInfo": {
     "elapsed": 536,
     "status": "ok",
     "timestamp": 1687882196589,
     "user": {
      "displayName": "Karla Paola Acosta Zamora",
      "userId": "09303972616486040249"
     },
     "user_tz": 360
    },
    "id": "a4A_zf4bnPGF",
    "outputId": "69289c33-b68c-4425-f68d-1be6ad103841"
   },
   "outputs": [
    {
     "data": {
      "image/png": "[encoded data removed]",
      "text/plain": [
       "<Figure size 432x288 with 1 Axes>"
      ]
     },
     "metadata": {},
     "output_type": "display_data"
    }
   ],
   "source": [
    "plt.plot(y);"
   ]
  },
  {
   "cell_type": "code",
   "execution_count": 21,
   "metadata": {
    "executionInfo": {
     "elapsed": 164,
     "status": "ok",
     "timestamp": 1687882203434,
     "user": {
      "displayName": "Karla Paola Acosta Zamora",
      "userId": "09303972616486040249"
     },
     "user_tz": 360
    },
    "id": "_EATDqCAnPGG"
   },
   "outputs": [],
   "source": [
    "# Saving the new dataset in a csv file for better handling\n",
    "df_0.to_csv('Dataset_predicción.csv', index=False)"
   ]
  },
  {
   "cell_type": "code",
   "execution_count": null,
   "metadata": {
    "id": "sWr63PEFnn9y"
   },
   "outputs": [],
   "source": []
  }
 ],
 "metadata": {
  "colab": {
   "provenance": []
  },
  "kernelspec": {
   "display_name": "Python 3",
   "language": "python",
   "name": "python3"
  },
  "language_info": {
   "codemirror_mode": {
    "name": "ipython",
    "version": 3
   },
   "file_extension": ".py",
   "mimetype": "text/x-python",
   "name": "python",
   "nbconvert_exporter": "python",
   "pygments_lexer": "ipython3",
   "version": "3.8.8"
  },
  "vscode": {
   "interpreter": {
    "hash": "0f09a9ea519fb73c29057d084374411da04ee7a6882535de121215feef3d226e"
   }
  }
 },
 "nbformat": 4,
 "nbformat_minor": 1
}
