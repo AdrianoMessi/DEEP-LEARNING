{
 "cells": [
  {
   "attachments": {},
   "cell_type": "markdown",
   "metadata": {},
   "source": [
    "## Example 3"
   ]
  },
  {
   "attachments": {},
   "cell_type": "markdown",
   "metadata": {},
   "source": [
    "> We are going to create a neural network for predicting the closing stock price and use the analysis for evaluation of risk factors"
   ]
  },
  {
   "cell_type": "code",
   "execution_count": 52,
   "metadata": {},
   "outputs": [],
   "source": [
    "# Charging the necesary libraries\n",
    "import pandas as pd\n",
    "import numpy as np\n",
    "import tensorflow as tf\n",
    "import matplotlib.pyplot as plt\n",
    "from sklearn.preprocessing import MinMaxScaler\n",
    "from sklearn.model_selection import train_test_split"
   ]
  },
  {
   "cell_type": "code",
   "execution_count": 53,
   "metadata": {},
   "outputs": [
    {
     "data": {
      "text/html": [
       "<div>\n",
       "<style scoped>\n",
       "    .dataframe tbody tr th:only-of-type {\n",
       "        vertical-align: middle;\n",
       "    }\n",
       "\n",
       "    .dataframe tbody tr th {\n",
       "        vertical-align: top;\n",
       "    }\n",
       "\n",
       "    .dataframe thead th {\n",
       "        text-align: right;\n",
       "    }\n",
       "</style>\n",
       "<table border=\"1\" class=\"dataframe\">\n",
       "  <thead>\n",
       "    <tr style=\"text-align: right;\">\n",
       "      <th></th>\n",
       "      <th>date</th>\n",
       "      <th>open</th>\n",
       "      <th>high</th>\n",
       "      <th>low</th>\n",
       "      <th>volume</th>\n",
       "      <th>close</th>\n",
       "      <th>Name</th>\n",
       "    </tr>\n",
       "  </thead>\n",
       "  <tbody>\n",
       "    <tr>\n",
       "      <th>0</th>\n",
       "      <td>08/02/2013</td>\n",
       "      <td>261.40</td>\n",
       "      <td>265.25</td>\n",
       "      <td>260.555</td>\n",
       "      <td>3879078</td>\n",
       "      <td>261.95</td>\n",
       "      <td>AMZN</td>\n",
       "    </tr>\n",
       "    <tr>\n",
       "      <th>1</th>\n",
       "      <td>11/02/2013</td>\n",
       "      <td>263.20</td>\n",
       "      <td>263.25</td>\n",
       "      <td>256.600</td>\n",
       "      <td>3403403</td>\n",
       "      <td>257.21</td>\n",
       "      <td>AMZN</td>\n",
       "    </tr>\n",
       "    <tr>\n",
       "      <th>2</th>\n",
       "      <td>12/02/2013</td>\n",
       "      <td>259.19</td>\n",
       "      <td>260.16</td>\n",
       "      <td>257.000</td>\n",
       "      <td>2938660</td>\n",
       "      <td>258.70</td>\n",
       "      <td>AMZN</td>\n",
       "    </tr>\n",
       "    <tr>\n",
       "      <th>3</th>\n",
       "      <td>13/02/2013</td>\n",
       "      <td>261.53</td>\n",
       "      <td>269.96</td>\n",
       "      <td>260.300</td>\n",
       "      <td>5292996</td>\n",
       "      <td>269.47</td>\n",
       "      <td>AMZN</td>\n",
       "    </tr>\n",
       "    <tr>\n",
       "      <th>4</th>\n",
       "      <td>14/02/2013</td>\n",
       "      <td>267.37</td>\n",
       "      <td>270.65</td>\n",
       "      <td>265.400</td>\n",
       "      <td>3462780</td>\n",
       "      <td>269.24</td>\n",
       "      <td>AMZN</td>\n",
       "    </tr>\n",
       "  </tbody>\n",
       "</table>\n",
       "</div>"
      ],
      "text/plain": [
       "         date    open    high      low   volume   close  Name\n",
       "0  08/02/2013  261.40  265.25  260.555  3879078  261.95  AMZN\n",
       "1  11/02/2013  263.20  263.25  256.600  3403403  257.21  AMZN\n",
       "2  12/02/2013  259.19  260.16  257.000  2938660  258.70  AMZN\n",
       "3  13/02/2013  261.53  269.96  260.300  5292996  269.47  AMZN\n",
       "4  14/02/2013  267.37  270.65  265.400  3462780  269.24  AMZN"
      ]
     },
     "execution_count": 53,
     "metadata": {},
     "output_type": "execute_result"
    }
   ],
   "source": [
    "# Charging the data\n",
    "df = pd.read_csv('AMZN_data.csv')\n",
    "df.head()"
   ]
  },
  {
   "cell_type": "code",
   "execution_count": 54,
   "metadata": {},
   "outputs": [],
   "source": [
    "# Data Preprocessing\n",
    "df = df[['open','high','low','volume','close']]\n",
    "scaler = MinMaxScaler(feature_range=(0, 1))\n",
    "scaled_data = scaler.fit_transform(df)"
   ]
  },
  {
   "cell_type": "code",
   "execution_count": 55,
   "metadata": {},
   "outputs": [
    {
     "data": {
      "text/html": [
       "<div>\n",
       "<style scoped>\n",
       "    .dataframe tbody tr th:only-of-type {\n",
       "        vertical-align: middle;\n",
       "    }\n",
       "\n",
       "    .dataframe tbody tr th {\n",
       "        vertical-align: top;\n",
       "    }\n",
       "\n",
       "    .dataframe thead th {\n",
       "        text-align: right;\n",
       "    }\n",
       "</style>\n",
       "<table border=\"1\" class=\"dataframe\">\n",
       "  <thead>\n",
       "    <tr style=\"text-align: right;\">\n",
       "      <th></th>\n",
       "      <th>open</th>\n",
       "      <th>high</th>\n",
       "      <th>low</th>\n",
       "      <th>volume</th>\n",
       "      <th>close</th>\n",
       "    </tr>\n",
       "  </thead>\n",
       "  <tbody>\n",
       "    <tr>\n",
       "      <th>0</th>\n",
       "      <td>261.40</td>\n",
       "      <td>265.25</td>\n",
       "      <td>260.555</td>\n",
       "      <td>3879078</td>\n",
       "      <td>261.95</td>\n",
       "    </tr>\n",
       "    <tr>\n",
       "      <th>1</th>\n",
       "      <td>263.20</td>\n",
       "      <td>263.25</td>\n",
       "      <td>256.600</td>\n",
       "      <td>3403403</td>\n",
       "      <td>257.21</td>\n",
       "    </tr>\n",
       "    <tr>\n",
       "      <th>2</th>\n",
       "      <td>259.19</td>\n",
       "      <td>260.16</td>\n",
       "      <td>257.000</td>\n",
       "      <td>2938660</td>\n",
       "      <td>258.70</td>\n",
       "    </tr>\n",
       "    <tr>\n",
       "      <th>3</th>\n",
       "      <td>261.53</td>\n",
       "      <td>269.96</td>\n",
       "      <td>260.300</td>\n",
       "      <td>5292996</td>\n",
       "      <td>269.47</td>\n",
       "    </tr>\n",
       "    <tr>\n",
       "      <th>4</th>\n",
       "      <td>267.37</td>\n",
       "      <td>270.65</td>\n",
       "      <td>265.400</td>\n",
       "      <td>3462780</td>\n",
       "      <td>269.24</td>\n",
       "    </tr>\n",
       "    <tr>\n",
       "      <th>...</th>\n",
       "      <td>...</td>\n",
       "      <td>...</td>\n",
       "      <td>...</td>\n",
       "      <td>...</td>\n",
       "      <td>...</td>\n",
       "    </tr>\n",
       "    <tr>\n",
       "      <th>1254</th>\n",
       "      <td>1445.00</td>\n",
       "      <td>1459.88</td>\n",
       "      <td>1385.140</td>\n",
       "      <td>9113808</td>\n",
       "      <td>1390.00</td>\n",
       "    </tr>\n",
       "    <tr>\n",
       "      <th>1255</th>\n",
       "      <td>1477.39</td>\n",
       "      <td>1498.00</td>\n",
       "      <td>1414.000</td>\n",
       "      <td>11125722</td>\n",
       "      <td>1429.95</td>\n",
       "    </tr>\n",
       "    <tr>\n",
       "      <th>1256</th>\n",
       "      <td>1402.62</td>\n",
       "      <td>1458.98</td>\n",
       "      <td>1320.720</td>\n",
       "      <td>11494985</td>\n",
       "      <td>1390.00</td>\n",
       "    </tr>\n",
       "    <tr>\n",
       "      <th>1257</th>\n",
       "      <td>1361.46</td>\n",
       "      <td>1443.99</td>\n",
       "      <td>1351.790</td>\n",
       "      <td>11066819</td>\n",
       "      <td>1442.84</td>\n",
       "    </tr>\n",
       "    <tr>\n",
       "      <th>1258</th>\n",
       "      <td>1449.00</td>\n",
       "      <td>1460.99</td>\n",
       "      <td>1415.150</td>\n",
       "      <td>7162741</td>\n",
       "      <td>1416.78</td>\n",
       "    </tr>\n",
       "  </tbody>\n",
       "</table>\n",
       "<p>1259 rows × 5 columns</p>\n",
       "</div>"
      ],
      "text/plain": [
       "         open     high       low    volume    close\n",
       "0      261.40   265.25   260.555   3879078   261.95\n",
       "1      263.20   263.25   256.600   3403403   257.21\n",
       "2      259.19   260.16   257.000   2938660   258.70\n",
       "3      261.53   269.96   260.300   5292996   269.47\n",
       "4      267.37   270.65   265.400   3462780   269.24\n",
       "...       ...      ...       ...       ...      ...\n",
       "1254  1445.00  1459.88  1385.140   9113808  1390.00\n",
       "1255  1477.39  1498.00  1414.000  11125722  1429.95\n",
       "1256  1402.62  1458.98  1320.720  11494985  1390.00\n",
       "1257  1361.46  1443.99  1351.790  11066819  1442.84\n",
       "1258  1449.00  1460.99  1415.150   7162741  1416.78\n",
       "\n",
       "[1259 rows x 5 columns]"
      ]
     },
     "execution_count": 55,
     "metadata": {},
     "output_type": "execute_result"
    }
   ],
   "source": [
    "df"
   ]
  },
  {
   "cell_type": "code",
   "execution_count": 56,
   "metadata": {},
   "outputs": [],
   "source": [
    "# Selecting the features (X) and the targets (y)\n",
    "X = scaled_data[:, :-1]\n",
    "y = scaled_data[:, -1]"
   ]
  },
  {
   "cell_type": "code",
   "execution_count": 57,
   "metadata": {},
   "outputs": [],
   "source": [
    "# Segmenting the data in training and testing\n",
    "X_train, X_test, y_train, y_test = train_test_split(X, y, test_size=0.2, random_state=42)"
   ]
  },
  {
   "cell_type": "code",
   "execution_count": 58,
   "metadata": {},
   "outputs": [],
   "source": [
    "# Building the Neural Network Architecture\n",
    "model = tf.keras.Sequential([\n",
    "    tf.keras.layers.Dense(128, activation='relu', input_shape=(X_train.shape[1],)),\n",
    "    tf.keras.layers.Dense(64, activation='relu'),\n",
    "    tf.keras.layers.Dense(1)\n",
    "])"
   ]
  },
  {
   "cell_type": "code",
   "execution_count": 59,
   "metadata": {},
   "outputs": [
    {
     "name": "stdout",
     "output_type": "stream",
     "text": [
      "Epoch 1/100\n",
      "32/32 - 0s - loss: 0.0170\n",
      "Epoch 2/100\n",
      "32/32 - 0s - loss: 4.2574e-04\n",
      "Epoch 3/100\n",
      "32/32 - 0s - loss: 8.5359e-05\n",
      "Epoch 4/100\n",
      "32/32 - 0s - loss: 3.7180e-05\n",
      "Epoch 5/100\n",
      "32/32 - 0s - loss: 2.9674e-05\n",
      "Epoch 6/100\n",
      "32/32 - 0s - loss: 2.7708e-05\n",
      "Epoch 7/100\n",
      "32/32 - 0s - loss: 2.6376e-05\n",
      "Epoch 8/100\n",
      "32/32 - 0s - loss: 2.6127e-05\n",
      "Epoch 9/100\n",
      "32/32 - 0s - loss: 2.4467e-05\n",
      "Epoch 10/100\n",
      "32/32 - 0s - loss: 2.3735e-05\n",
      "Epoch 11/100\n",
      "32/32 - 0s - loss: 2.6202e-05\n",
      "Epoch 12/100\n",
      "32/32 - 0s - loss: 2.3800e-05\n",
      "Epoch 13/100\n",
      "32/32 - 0s - loss: 2.4610e-05\n",
      "Epoch 14/100\n",
      "32/32 - 0s - loss: 2.6890e-05\n",
      "Epoch 15/100\n",
      "32/32 - 0s - loss: 2.6206e-05\n",
      "Epoch 16/100\n",
      "32/32 - 0s - loss: 2.3145e-05\n",
      "Epoch 17/100\n",
      "32/32 - 0s - loss: 2.4746e-05\n",
      "Epoch 18/100\n",
      "32/32 - 0s - loss: 2.3274e-05\n",
      "Epoch 19/100\n",
      "32/32 - 0s - loss: 2.4812e-05\n",
      "Epoch 20/100\n",
      "32/32 - 0s - loss: 2.3808e-05\n",
      "Epoch 21/100\n",
      "32/32 - 0s - loss: 2.6195e-05\n",
      "Epoch 22/100\n",
      "32/32 - 0s - loss: 2.6434e-05\n",
      "Epoch 23/100\n",
      "32/32 - 0s - loss: 2.2722e-05\n",
      "Epoch 24/100\n",
      "32/32 - 0s - loss: 2.2448e-05\n",
      "Epoch 25/100\n",
      "32/32 - 0s - loss: 2.2067e-05\n",
      "Epoch 26/100\n",
      "32/32 - 0s - loss: 2.3883e-05\n",
      "Epoch 27/100\n",
      "32/32 - 0s - loss: 2.2917e-05\n",
      "Epoch 28/100\n",
      "32/32 - 0s - loss: 2.1239e-05\n",
      "Epoch 29/100\n",
      "32/32 - 0s - loss: 2.2773e-05\n",
      "Epoch 30/100\n",
      "32/32 - 0s - loss: 2.6352e-05\n",
      "Epoch 31/100\n",
      "32/32 - 0s - loss: 2.4620e-05\n",
      "Epoch 32/100\n",
      "32/32 - 0s - loss: 2.0871e-05\n",
      "Epoch 33/100\n",
      "32/32 - 0s - loss: 2.1515e-05\n",
      "Epoch 34/100\n",
      "32/32 - 0s - loss: 2.1655e-05\n",
      "Epoch 35/100\n",
      "32/32 - 0s - loss: 3.4022e-05\n",
      "Epoch 36/100\n",
      "32/32 - 0s - loss: 3.1113e-05\n",
      "Epoch 37/100\n",
      "32/32 - 0s - loss: 2.3453e-05\n",
      "Epoch 38/100\n",
      "32/32 - 0s - loss: 2.1708e-05\n",
      "Epoch 39/100\n",
      "32/32 - 0s - loss: 2.3263e-05\n",
      "Epoch 40/100\n",
      "32/32 - 0s - loss: 2.5786e-05\n",
      "Epoch 41/100\n",
      "32/32 - 0s - loss: 2.4565e-05\n",
      "Epoch 42/100\n",
      "32/32 - 0s - loss: 2.3887e-05\n",
      "Epoch 43/100\n",
      "32/32 - 0s - loss: 2.0476e-05\n",
      "Epoch 44/100\n",
      "32/32 - 0s - loss: 2.9885e-05\n",
      "Epoch 45/100\n",
      "32/32 - 0s - loss: 2.4516e-05\n",
      "Epoch 46/100\n",
      "32/32 - 0s - loss: 2.4233e-05\n",
      "Epoch 47/100\n",
      "32/32 - 0s - loss: 2.1214e-05\n",
      "Epoch 48/100\n",
      "32/32 - 0s - loss: 2.1192e-05\n",
      "Epoch 49/100\n",
      "32/32 - 0s - loss: 2.2716e-05\n",
      "Epoch 50/100\n",
      "32/32 - 0s - loss: 2.8606e-05\n",
      "Epoch 51/100\n",
      "32/32 - 0s - loss: 2.1773e-05\n",
      "Epoch 52/100\n",
      "32/32 - 0s - loss: 2.1705e-05\n",
      "Epoch 53/100\n",
      "32/32 - 0s - loss: 2.2738e-05\n",
      "Epoch 54/100\n",
      "32/32 - 0s - loss: 2.0588e-05\n",
      "Epoch 55/100\n",
      "32/32 - 0s - loss: 1.9746e-05\n",
      "Epoch 56/100\n",
      "32/32 - 0s - loss: 1.9048e-05\n",
      "Epoch 57/100\n",
      "32/32 - 0s - loss: 1.9024e-05\n",
      "Epoch 58/100\n",
      "32/32 - 0s - loss: 2.0312e-05\n",
      "Epoch 59/100\n",
      "32/32 - 0s - loss: 4.0416e-05\n",
      "Epoch 60/100\n",
      "32/32 - 0s - loss: 2.0992e-05\n",
      "Epoch 61/100\n",
      "32/32 - 0s - loss: 1.7877e-05\n",
      "Epoch 62/100\n",
      "32/32 - 0s - loss: 1.8618e-05\n",
      "Epoch 63/100\n",
      "32/32 - 0s - loss: 2.2004e-05\n",
      "Epoch 64/100\n",
      "32/32 - 0s - loss: 1.9462e-05\n",
      "Epoch 65/100\n",
      "32/32 - 0s - loss: 1.9240e-05\n",
      "Epoch 66/100\n",
      "32/32 - 0s - loss: 1.8400e-05\n",
      "Epoch 67/100\n",
      "32/32 - 0s - loss: 2.9631e-05\n",
      "Epoch 68/100\n",
      "32/32 - 0s - loss: 2.7335e-05\n",
      "Epoch 69/100\n",
      "32/32 - 0s - loss: 1.7660e-05\n",
      "Epoch 70/100\n",
      "32/32 - 0s - loss: 2.0214e-05\n",
      "Epoch 71/100\n",
      "32/32 - 0s - loss: 3.9742e-05\n",
      "Epoch 72/100\n",
      "32/32 - 0s - loss: 2.4277e-05\n",
      "Epoch 73/100\n",
      "32/32 - 0s - loss: 2.9703e-05\n",
      "Epoch 74/100\n",
      "32/32 - 0s - loss: 2.1360e-05\n",
      "Epoch 75/100\n",
      "32/32 - 0s - loss: 1.7136e-05\n",
      "Epoch 76/100\n",
      "32/32 - 0s - loss: 1.8107e-05\n",
      "Epoch 77/100\n",
      "32/32 - 0s - loss: 1.6593e-05\n",
      "Epoch 78/100\n",
      "32/32 - 0s - loss: 2.2352e-05\n",
      "Epoch 79/100\n",
      "32/32 - 0s - loss: 2.2119e-05\n",
      "Epoch 80/100\n",
      "32/32 - 0s - loss: 2.4182e-05\n",
      "Epoch 81/100\n",
      "32/32 - 0s - loss: 1.9647e-05\n",
      "Epoch 82/100\n",
      "32/32 - 0s - loss: 2.5773e-05\n",
      "Epoch 83/100\n",
      "32/32 - 0s - loss: 2.5219e-05\n",
      "Epoch 84/100\n",
      "32/32 - 0s - loss: 3.8556e-05\n",
      "Epoch 85/100\n",
      "32/32 - 0s - loss: 2.9814e-05\n",
      "Epoch 86/100\n",
      "32/32 - 0s - loss: 3.7683e-05\n",
      "Epoch 87/100\n",
      "32/32 - 0s - loss: 2.9899e-05\n",
      "Epoch 88/100\n",
      "32/32 - 0s - loss: 1.9546e-05\n",
      "Epoch 89/100\n",
      "32/32 - 0s - loss: 1.7790e-05\n",
      "Epoch 90/100\n",
      "32/32 - 0s - loss: 2.3603e-05\n",
      "Epoch 91/100\n",
      "32/32 - 0s - loss: 4.0331e-05\n",
      "Epoch 92/100\n",
      "32/32 - 0s - loss: 1.6664e-05\n",
      "Epoch 93/100\n",
      "32/32 - 0s - loss: 2.1183e-05\n",
      "Epoch 94/100\n",
      "32/32 - 0s - loss: 1.8443e-05\n",
      "Epoch 95/100\n",
      "32/32 - 0s - loss: 1.4834e-05\n",
      "Epoch 96/100\n",
      "32/32 - 0s - loss: 1.7984e-05\n",
      "Epoch 97/100\n",
      "32/32 - 0s - loss: 1.4589e-05\n",
      "Epoch 98/100\n",
      "32/32 - 0s - loss: 2.0504e-05\n",
      "Epoch 99/100\n",
      "32/32 - 0s - loss: 1.3724e-05\n",
      "Epoch 100/100\n",
      "32/32 - 0s - loss: 1.9008e-05\n"
     ]
    },
    {
     "data": {
      "text/plain": [
       "<tensorflow.python.keras.callbacks.History at 0x204067a2760>"
      ]
     },
     "execution_count": 59,
     "metadata": {},
     "output_type": "execute_result"
    }
   ],
   "source": [
    "# Compiling the model\n",
    "model.compile(loss='mean_squared_error', optimizer='adam')\n",
    "\n",
    "# Training the model\n",
    "model.fit(X_train, y_train, epochs=100, batch_size=32, verbose=2)"
   ]
  },
  {
   "cell_type": "code",
   "execution_count": 60,
   "metadata": {},
   "outputs": [
    {
     "name": "stdout",
     "output_type": "stream",
     "text": [
      "32/32 - 0s - loss: 9.2742e-05\n",
      "Training error: 9.274240437662229e-05\n",
      "8/8 - 0s - loss: 8.8473e-05\n",
      "Error en el conjunto de prueba: 8.847322897054255e-05\n"
     ]
    }
   ],
   "source": [
    "# Evaluating the model\n",
    "training_loss = model.evaluate(X_train, y_train, verbose=2)\n",
    "print(f'Training error: {training_loss}')\n",
    "loss = model.evaluate(X_test, y_test, verbose=2)\n",
    "print(f'Error en el conjunto de prueba: {loss}')"
   ]
  },
  {
   "cell_type": "code",
   "execution_count": 61,
   "metadata": {},
   "outputs": [
    {
     "data": {
      "image/png": "[encoded data removed]",
      "text/plain": [
       "<Figure size 432x288 with 1 Axes>"
      ]
     },
     "metadata": {
      "needs_background": "light"
     },
     "output_type": "display_data"
    }
   ],
   "source": [
    "# Making predictions\n",
    "training_predictions = model.predict(X_train)\n",
    "testing_predictions = model.predict(X_test)\n",
    "\n",
    "# plotting predictions\n",
    "# plt.plot(y_train.flatten(), label='Actual data for training')\n",
    "# plt.plot(training_predictions.flatten(), label='Training predictions')\n",
    "plt.plot(y_test, label='Actual data for testing')\n",
    "plt.plot(testing_predictions, label='Testing predictions')\n",
    "plt.legend()\n",
    "plt.grid()\n",
    "plt.savefig('Comparison.pdf');\n"
   ]
  },
  {
   "cell_type": "code",
   "execution_count": 62,
   "metadata": {},
   "outputs": [
    {
     "name": "stdout",
     "output_type": "stream",
     "text": [
      "Future predictions:\n",
      "[0.11810625]\n",
      "[0.06272384]\n",
      "[0.05106414]\n",
      "[0.08066767]\n",
      "[0.1302712]\n",
      "[0.0630514]\n",
      "[0.01402508]\n",
      "[0.05661888]\n",
      "[0.05777455]\n",
      "[0.24389493]\n"
     ]
    }
   ],
   "source": [
    "# Making future predictions\n",
    "future_predictions = model.predict(X_test[-10:])  # For example, predciting the next 10 points\n",
    "print('Future predictions:')\n",
    "for prediction in future_predictions:\n",
    "    print(prediction)"
   ]
  },
  {
   "cell_type": "code",
   "execution_count": 63,
   "metadata": {},
   "outputs": [
    {
     "name": "stdout",
     "output_type": "stream",
     "text": [
      "Mean absolute error: 0.25951617863002546\n"
     ]
    }
   ],
   "source": [
    "# Computing the mean absolute error (MAE)\n",
    "mae = np.mean(np.abs(testing_predictions - y_test))\n",
    "print(f'Mean absolute error: {mae}')"
   ]
  },
  {
   "attachments": {},
   "cell_type": "markdown",
   "metadata": {},
   "source": [
    "En el código anterior, el enfoque se centra en la predicción del precio de cierre de las acciones utilizando un modelo de redes neuronales. Sin embargo, es importante destacar que el análisis de riesgo en el contexto financiero puede requerir un enfoque más amplio e incluir múltiples variables y métricas para evaluar y mitigar los riesgos asociados a las inversiones."
   ]
  },
  {
   "attachments": {},
   "cell_type": "markdown",
   "metadata": {},
   "source": [
    "Sin embargo, para un análisis de riesgo más completo, se pueden considerar otros aspectos, como:\n",
    "\n",
    "> ``Diversificación de la cartera``: Evaluar la distribución de los activos en una cartera de inversión y analizar su relación de correlación y volatilidad para diversificar los riesgos.\n",
    "\n",
    "> ``Métricas de riesgo adicionales``: Calcular métricas de riesgo como el Value at Risk (VaR) y el Conditional Value at Risk (CVaR) para estimar la probabilidad y el nivel de pérdidas potenciales en diferentes escenarios.\n",
    "\n",
    "> ``Factores macroeconómicos``: Considerar factores macroeconómicos, como tasas de interés, indicadores económicos, políticas gubernamentales y eventos internacionales, que pueden tener impacto en los riesgos financieros.\n",
    "\n",
    "> ``Análisis fundamental y técnico``: Utilizar análisis fundamental y técnico para evaluar la salud financiera de las empresas, identificar oportunidades y riesgos específicos de la industria, y tomar decisiones de inversión más informadas."
   ]
  },
  {
   "attachments": {},
   "cell_type": "markdown",
   "metadata": {},
   "source": [
    "### Computing the Value at Risk (VaR)"
   ]
  },
  {
   "attachments": {},
   "cell_type": "markdown",
   "metadata": {},
   "source": [
    "La ecuación del Value at Risk (VaR) es una medida utilizada en el análisis de riesgo financiero para estimar la pérdida máxima esperada en una inversión en un horizonte de tiempo determinado, con un nivel de confianza especificado. La ecuación del VaR depende del método y la distribución utilizados para calcularlo.\n",
    "\n",
    "El cálculo del VaR puede variar según el enfoque utilizado, como el VaR paramétrico, el VaR histórico y el VaR de simulación Monte Carlo. A continuación, se proporciona la ecuación general del VaR paramétrico:"
   ]
  },
  {
   "attachments": {},
   "cell_type": "markdown",
   "metadata": {},
   "source": [
    "> VaR = -μ + z * σ\n",
    "\n",
    "Donde:\n",
    "\n",
    "> ``μ:`` Valor esperado de la distribución de rendimientos.\n",
    "\n",
    "> ``z:`` Valor crítico correspondiente al nivel de confianza deseado (por ejemplo, z = 1.96 para un nivel de confianza del 95% en una distribución normal estándar).\n",
    "\n",
    "> ``σ:`` Desviación estándar de la distribución de rendimientos.\n",
    "Esta ecuación proporciona una estimación del valor máximo de pérdida esperada (en términos monetarios) en una inversión durante un horizonte de tiempo específico, con un nivel de confianza determinado."
   ]
  },
  {
   "cell_type": "code",
   "execution_count": 64,
   "metadata": {},
   "outputs": [
    {
     "name": "stdout",
     "output_type": "stream",
     "text": [
      "VaR al 95.0%: -0.5724040441504099\n"
     ]
    }
   ],
   "source": [
    "# Computing the Value at Risk (VaR)\n",
    "alpha = 0.95\n",
    "var = np.percentile(y_test - testing_predictions, 100 * (1 - alpha))\n",
    "print(f'VaR al {alpha*100}%: {var}')"
   ]
  },
  {
   "attachments": {},
   "cell_type": "markdown",
   "metadata": {},
   "source": [
    "Un valor de VaR (Value at Risk) del -0.5586119966024988, con un nivel de confianza del 95%, indica que existe un 5% de probabilidad de que la pérdida en una inversión supere ese valor en un horizonte de tiempo dado.\n",
    "\n",
    "En otras palabras, para una cartera de inversiones o activo específico, con un nivel de confianza del 95%, se estima que la pérdida máxima esperada no superará -0.5586119966024988. Es importante tener en cuenta que este valor está expresado en la misma unidad que la variable objetivo utilizada en el cálculo (en este caso, el precio de cierre de las acciones)."
   ]
  },
  {
   "attachments": {},
   "cell_type": "markdown",
   "metadata": {},
   "source": [
    "En esta ecuación, y_test representa los valores reales de la variable objetivo (en este caso, los precios de cierre de las acciones en el conjunto de prueba), y testing_predictions son las predicciones realizadas por el modelo para esos valores.\n",
    "\n",
    "La diferencia entre los valores reales y las predicciones (y_test - testing_predictions) representa los errores de predicción. Luego, se utiliza la función np.percentile() para calcular el percentil correspondiente a un nivel de confianza dado (1 - alpha). En este caso, el nivel de confianza se establece en alpha = 0.95 (es decir, 95% de confianza)."
   ]
  },
  {
   "cell_type": "code",
   "execution_count": 65,
   "metadata": {},
   "outputs": [
    {
     "name": "stdout",
     "output_type": "stream",
     "text": [
      "CVaR al 95.0%: -0.7092098792145017\n"
     ]
    }
   ],
   "source": [
    "# Calcular el Conditional Value at Risk (CVaR)\n",
    "errors = y_test - testing_predictions\n",
    "cvar = np.mean(errors[errors <= var])\n",
    "print(f'CVaR al {alpha*100}%: {cvar}')"
   ]
  },
  {
   "attachments": {},
   "cell_type": "markdown",
   "metadata": {},
   "source": [
    "Si el VaR es positivo, indica una pérdida máxima esperada, mientras que si es negativo, puede indicar un beneficio esperado en lugar de una pérdida.\n",
    "\n",
    "Sin embargo, es importante tener en cuenta que el VaR por sí solo no proporciona una imagen completa del perfil de riesgo de una inversión o cartera"
   ]
  }
 ],
 "metadata": {
  "kernelspec": {
   "display_name": "base",
   "language": "python",
   "name": "python3"
  },
  "language_info": {
   "codemirror_mode": {
    "name": "ipython",
    "version": 3
   },
   "file_extension": ".py",
   "mimetype": "text/x-python",
   "name": "python",
   "nbconvert_exporter": "python",
   "pygments_lexer": "ipython3",
   "version": "3.8.8"
  },
  "orig_nbformat": 4,
  "vscode": {
   "interpreter": {
    "hash": "0f09a9ea519fb73c29057d084374411da04ee7a6882535de121215feef3d226e"
   }
  }
 },
 "nbformat": 4,
 "nbformat_minor": 2
}
